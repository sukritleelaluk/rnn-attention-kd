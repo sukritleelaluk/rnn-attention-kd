{
 "cells": [
  {
   "cell_type": "markdown",
   "metadata": {},
   "source": [
    "0. Import Library"
   ]
  },
  {
   "cell_type": "code",
   "execution_count": null,
   "metadata": {},
   "outputs": [],
   "source": [
    "import math\n",
    "import numpy as np\n",
    "import pandas as pd\n",
    "\n",
    "import torch\n",
    "import torch.nn as nn\n",
    "import torch.nn.functional as F\n",
    "from torch.utils.data import DataLoader, TensorDataset, WeightedRandomSampler, ConcatDataset, Dataset\n",
    "from torch.utils.data.dataset import random_split\n",
    "from torcheval.metrics.functional import binary_auroc\n",
    "from sklearn.metrics import roc_auc_score\n",
    "\n",
    "from utils.rnn_attention_kd import *"
   ]
  },
  {
   "cell_type": "markdown",
   "metadata": {},
   "source": [
    "1. Checking the Device"
   ]
  },
  {
   "cell_type": "code",
   "execution_count": null,
   "metadata": {},
   "outputs": [],
   "source": [
    "# Checking whether the device used for training is CPU or GPU.\n",
    "device = torch.device(\"cuda\" if torch.cuda.is_available() else \"cpu\")\n",
    "use_cuda = torch.cuda.is_available()\n",
    "print('Use CUDA:', use_cuda)"
   ]
  },
  {
   "cell_type": "markdown",
   "metadata": {},
   "source": [
    "2. Training the Teacher Model"
   ]
  },
  {
   "cell_type": "code",
   "execution_count": null,
   "metadata": {},
   "outputs": [],
   "source": [
    "# Setting the hyperparametes of teacher model.\n",
    "input_size = 12 # Number of feature on this study\n",
    "hidden_size = 4 # The hidden units on each layer on RNN\n",
    "num_layers = 1 # The number of layers of RNN\n",
    "num_classes = 2 # The number of class (At-risk and No-risk students)"
   ]
  },
  {
   "cell_type": "code",
   "execution_count": null,
   "metadata": {},
   "outputs": [],
   "source": [
    "# Setting a model\n",
    "model_t = TeacherGRU(input_size=input_size, \n",
    "                     hidden_size=hidden_size, \n",
    "                     num_layers=num_layers, \n",
    "                     num_classes=num_classes)\n",
    "\n",
    "model_t = model_t.to(device)"
   ]
  },
  {
   "cell_type": "code",
   "execution_count": null,
   "metadata": {},
   "outputs": [],
   "source": [
    "# Training the teacher model\n",
    "train_teacher(model=model_t, \n",
    "              train_loader=train_loader,\n",
    "              test_loader=test_loader, \n",
    "              epochs=150, \n",
    "              device=device, \n",
    "              train_graph_path=None, \n",
    "              learning_rate=0.01, \n",
    "              weight_decay=1e-5, \n",
    "              scheduler_funnction=False, \n",
    "              print_results=True)"
   ]
  },
  {
   "cell_type": "code",
   "execution_count": null,
   "metadata": {},
   "outputs": [],
   "source": [
    "# Evaluation the performance of teacher model with test set\n",
    "precision, recall, f1, accuracy, auc, predict_value = model_evaluation_teacher(model=model_t, \n",
    "                                                                               test_loader=test_loader, \n",
    "                                                                               device=device, threshold=0.5,\n",
    "                                                                               confusion_matrix=True, \n",
    "                                                                               print_results=False)"
   ]
  },
  {
   "cell_type": "code",
   "execution_count": null,
   "metadata": {},
   "outputs": [],
   "source": [
    "# Save the teacher weight model\n",
    "PATH_T = f'save/{file_path_teacher}/teacher_model'\n",
    "torch.save(model_t.state_dict(), PATH_T)"
   ]
  }
 ],
 "metadata": {
  "kernelspec": {
   "display_name": "sukrit_cuda",
   "language": "python",
   "name": "python3"
  },
  "language_info": {
   "name": "python",
   "version": "3.12.4"
  }
 },
 "nbformat": 4,
 "nbformat_minor": 2
}
