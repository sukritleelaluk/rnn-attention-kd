{
 "cells": [
  {
   "cell_type": "markdown",
   "metadata": {},
   "source": [
    "0. Import Library"
   ]
  },
  {
   "cell_type": "code",
   "execution_count": null,
   "metadata": {},
   "outputs": [],
   "source": [
    "import math\n",
    "import numpy as np\n",
    "import pandas as pd\n",
    "\n",
    "import torch\n",
    "import torch.nn as nn\n",
    "import torch.nn.functional as F\n",
    "from torch.utils.data import DataLoader, TensorDataset, WeightedRandomSampler, ConcatDataset, Dataset\n",
    "from torch.utils.data.dataset import random_split\n",
    "from torcheval.metrics.functional import binary_auroc\n",
    "from sklearn.metrics import roc_auc_score\n",
    "\n",
    "from utils.rnn_attention_kd import *"
   ]
  },
  {
   "cell_type": "markdown",
   "metadata": {},
   "source": [
    "1. Checking the Device"
   ]
  },
  {
   "cell_type": "code",
   "execution_count": null,
   "metadata": {},
   "outputs": [],
   "source": [
    "# Checking whether the device used for training is CPU or GPU.\n",
    "device = torch.device(\"cuda\" if torch.cuda.is_available() else \"cpu\")\n",
    "use_cuda = torch.cuda.is_available()\n",
    "print('Use CUDA:', use_cuda)"
   ]
  },
  {
   "cell_type": "markdown",
   "metadata": {},
   "source": [
    "2. Import the Teacher Model"
   ]
  },
  {
   "cell_type": "code",
   "execution_count": null,
   "metadata": {},
   "outputs": [],
   "source": [
    "# Setting the hyperparametes of teacher model.\n",
    "input_size_teacher = 12 # Number of feature on this study\n",
    "hidden_size_teacher = 4 # The hidden units on each layer on RNN\n",
    "num_layers_teacher = 1 # The number of layers of RNN\n",
    "num_classes_teacher = 2 # The number of class (At-risk and No-risk students)"
   ]
  },
  {
   "cell_type": "code",
   "execution_count": null,
   "metadata": {},
   "outputs": [],
   "source": [
    "# Setting a model\n",
    "model_t = TeacherGRU(input_size=input_size_teacher, \n",
    "                     hidden_size=hidden_size_teacher, \n",
    "                     num_layers=num_layers_teacher, \n",
    "                     num_classes=num_classes_teacher)\n",
    "\n",
    "model_t = model_t.to(device)"
   ]
  },
  {
   "cell_type": "code",
   "execution_count": null,
   "metadata": {},
   "outputs": [],
   "source": [
    "# Loading a save weight of teacher model \n",
    "PATH_T = f'save/{file_path_teacher}/teacher_model'\n",
    "model_t.load_state_dict(torch.load(PATH_T))"
   ]
  },
  {
   "cell_type": "markdown",
   "metadata": {},
   "source": [
    "3. Training a Student Model"
   ]
  },
  {
   "cell_type": "code",
   "execution_count": null,
   "metadata": {},
   "outputs": [],
   "source": [
    "# Setting the hyperparametes of student model.\n",
    "input_size_student = 12 # Number of feature on this study\n",
    "hidden_size_student = 4 # The hidden units on each layer on RNN\n",
    "num_layers_student = 1 # The number of layers of RNN\n",
    "num_classes_student = 2 # The number of class (At-risk and No-risk students)"
   ]
  },
  {
   "cell_type": "code",
   "execution_count": null,
   "metadata": {},
   "outputs": [],
   "source": [
    "model_s = StudentGRU(input_size=input_size_student, \n",
    "                     hidden_teacher_size=hidden_size_teacher, \n",
    "                     hidden_student_size=hidden_size_student, \n",
    "                     num_layers=num_layers_student, \n",
    "                     num_classes=num_classes_student)\n",
    "\n",
    "model_s = model_s.to(device)"
   ]
  },
  {
   "cell_type": "code",
   "execution_count": null,
   "metadata": {},
   "outputs": [],
   "source": [
    "# Training the student model\n",
    "train_student(model_t=model_t, \n",
    "              model_s=model_s, \n",
    "              train_loader=train_kd_loader,\n",
    "              epochs=150, \n",
    "              device=device, \n",
    "              train_graph_path=None, \n",
    "              learning_rate=0.01, \n",
    "              weight_decay=1e-5,\n",
    "              scheduler_funnction=False, \n",
    "              print_results=False,\n",
    "              alpha=0.1)"
   ]
  },
  {
   "cell_type": "code",
   "execution_count": null,
   "metadata": {},
   "outputs": [],
   "source": [
    "# Evaluation the performance of student model with test set\n",
    "precision, recall, f1, accuracy, auc, predict_value = model_evaluation_student(model=model_s, \n",
    "                                                                               test_loader=test_kd_loader, \n",
    "                                                                               device=device, \n",
    "                                                                               threshold=0.5,\n",
    "                                                                               confusion_matrix=False, \n",
    "                                                                               print_results=False)"
   ]
  },
  {
   "cell_type": "code",
   "execution_count": null,
   "metadata": {},
   "outputs": [],
   "source": [
    "# Save the student weight model\n",
    "PATH_S = f'save/{file_path_student}/student_model'\n",
    "torch.save(model_s.state_dict(), PATH_S)"
   ]
  }
 ],
 "metadata": {
  "language_info": {
   "name": "python"
  }
 },
 "nbformat": 4,
 "nbformat_minor": 2
}
